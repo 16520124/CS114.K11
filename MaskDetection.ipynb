{
  "nbformat": 4,
  "nbformat_minor": 0,
  "metadata": {
    "colab": {
      "name": "MaskDetection.ipynb",
      "provenance": [],
      "collapsed_sections": [],
      "include_colab_link": true
    },
    "kernelspec": {
      "name": "python3",
      "display_name": "Python 3"
    }
  },
  "cells": [
    {
      "cell_type": "markdown",
      "metadata": {
        "id": "view-in-github",
        "colab_type": "text"
      },
      "source": [
        "<a href=\"https://colab.research.google.com/github/16520124/CS114.K11/blob/master/MaskDetection.ipynb\" target=\"_parent\"><img src=\"https://colab.research.google.com/assets/colab-badge.svg\" alt=\"Open In Colab\"/></a>"
      ]
    },
    {
      "cell_type": "code",
      "metadata": {
        "id": "eiub0kIPHzUi",
        "colab_type": "code",
        "colab": {}
      },
      "source": [
        "#final\n",
        "import cv2 #import các thư viện \n",
        "import os\n",
        "import math\n",
        "import sys\n",
        "import numpy as np\n",
        "import pandas as pd\n",
        "import matplotlib.pyplot as plt\n",
        "from google.colab.patches import cv2_imshow\n",
        "from google.colab import files\n",
        "from sklearn.model_selection import train_test_split\n",
        "from sklearn.linear_model import LogisticRegression\n",
        "from sklearn.model_selection import GridSearchCV\n",
        "from sklearn.metrics import classification_report\n",
        "from sklearn.preprocessing import LabelEncoder\n",
        "from imutils import paths\n",
        "from keras.applications import VGG16\n",
        "from keras.applications import imagenet_utils\n",
        "from keras.preprocessing.image import img_to_array\n",
        "from keras.preprocessing.image import load_img"
      ],
      "execution_count": 0,
      "outputs": []
    },
    {
      "cell_type": "code",
      "metadata": {
        "id": "aISxn1-WJrBG",
        "colab_type": "code",
        "colab": {}
      },
      "source": [
        "#final\n",
        "from google.colab import drive #kết nối với gg drive\n",
        "drive.mount('/content/drive')"
      ],
      "execution_count": 0,
      "outputs": []
    },
    {
      "cell_type": "code",
      "metadata": {
        "id": "U2_innh3JncX",
        "colab_type": "code",
        "colab": {}
      },
      "source": [
        "cascade = cv2.CascadeClassifier(cv2.data.haarcascades + \"haarcascade_frontalface_default.xml\")"
      ],
      "execution_count": 0,
      "outputs": []
    },
    {
      "cell_type": "code",
      "metadata": {
        "id": "QpL1BZ8NaLH8",
        "colab_type": "code",
        "colab": {}
      },
      "source": [
        "#final\n",
        "def Get_first_face(image_path): #trả về khuôn mặt đầu tiên từ một bức ảnh và số lượng face trong 1 ảnh\n",
        "  img = cv2.imread(image_path)\n",
        "  cascade = cv2.CascadeClassifier(cv2.data.haarcascades + \"haarcascade_frontalface_default.xml\")\n",
        "  faces = cascade.detectMultiScale(img)\n",
        "  print('found', len(faces), 'faces', sep=' ')\n",
        "  if len(faces) == 0: #không tìm thấy face nào trong ảnh\n",
        "    return None, 0\n",
        "\n",
        "  (x, y, w, h) = faces[0] #giả sử detect nhiều face thì lấy face đầu tiên \n",
        "  r = max(w, h) / 2\n",
        "  centerx = x + w / 2\n",
        "  centery = y + h / 2\n",
        "  nx = int(centerx - r)\n",
        "  ny = int(centery - r)\n",
        "  nr = int(r * 2)\n",
        "\n",
        "  faceimg = img[ny:ny+nr, nx:nx+nr]\n",
        "  #faceimg = cv2.resize(faceimg,(50,50))\n",
        "  #faceimg = cv2.cvtColor(faceimg, cv2.COLOR_BGR2GRAY)   #để dành làm ở bước sau\n",
        "  return faceimg, len(faces) #độ dài mảng faces -> số lượng face detect\n"
      ],
      "execution_count": 0,
      "outputs": []
    },
    {
      "cell_type": "code",
      "metadata": {
        "id": "hquiuH4sPE4C",
        "colab_type": "code",
        "colab": {}
      },
      "source": [
        "def Resize_image(faceimg): #resize ảnh (face) về kích thước 50x50 pixels, chuyển về màu xám\n",
        "  faceimg=cv2.resize(faceimg, (50,50))\n",
        "  faceimg=cv2.cvtColor(faceimg, cv2.COLOR_BGR2GRAY)\n",
        "  return faceimg\n"
      ],
      "execution_count": 0,
      "outputs": []
    },
    {
      "cell_type": "code",
      "metadata": {
        "id": "ZuI88lotP_oN",
        "colab_type": "code",
        "colab": {}
      },
      "source": [
        "#Tạo 2 pandas series X và Y từ thư mục chứa ảnh train\n",
        "#Duyệt từng file trong thư mục, crop ảnh, resize ảnh crop về kích thước 50x50 và đổi sang ảnh xám. Sau đó flatten, và đưa vào X series. \n",
        "#Nếu ảnh không crop được cái face nào thì cho mặc định một face toàn màu đen. \n",
        "#Series Y được xác định dựa vào tên file ảnh. Tên bắt đầu bằng chữ 'pos' là có đeo khẩu trang, 'neg' là không đeo khẩu trang.\n",
        "\n",
        "i = 1; #biến đếm i để chặn số lượng ảnh duyệt\n",
        "#folder = '/mydrive/My Drive/Teaching/2019.hk2.cs114.mask.dataset/train'\n",
        "work_folder = '/content/drive/My Drive/train'\n",
        "\n",
        "all_files = os.listdir(work_folder)\n",
        "\n",
        "#count = 1 -> i\n",
        "face_amount = 0\n",
        "dectect = 0\n",
        "faces_in_image = 0\n",
        "\n",
        "X = pd.DataFrame(columns=range(2500)) #50x50=2500\n",
        "Y = pd.DataFrame(columns=['label']) #gán nhãn dựa vào tên bắt đầu của ảnh\n",
        "\n",
        "for image in os.listdir(work_folder):\n",
        "  print('====  process image', image, ':', i, 'out of', len(all_files), sep=' ')\n",
        "  faceimg,faces_in_image = Get_first_face(work_folder + \"/\" + image)\n",
        "  if faceimg is not None:\n",
        "    #new_img = cv2.cvtColor(cv2.resize(faceimg,(50,50)), cv2.COLOR_BGR2GRAY)\n",
        "    new_img=Resize_image(faceimg)\n",
        "\n",
        "    flat = new_img.flatten()\n",
        "    t = pd.DataFrame([flat])\n",
        "    dectect += 1\n",
        "    #print(t)\n",
        "\n",
        "  else:\n",
        "    print('Cant find face')\n",
        "    t = pd.DataFrame([[0]*2500], columns=range(2500)) #màu đen\n",
        "\n",
        "  X=X.append(t, ignore_index=True)\n",
        "\n",
        "  Y=Y.append({'label':image[0:3]},ignore_index=True) #nhãn là pos hoặc neg\n",
        "\n",
        "  i = i + 1\n",
        "  \"\"\"if i == 15: #chỉ duyệt qua 14 ảnh\n",
        "    break;\"\"\"\n",
        "print(X)\n",
        "print(Y)"
      ],
      "execution_count": 0,
      "outputs": []
    },
    {
      "cell_type": "code",
      "metadata": {
        "id": "LnKPYt5gdoUs",
        "colab_type": "code",
        "colab": {}
      },
      "source": [
        "Transform_to_bool = LabelEncoder()\n",
        "labels = Transform_to_bool.fit_transform(Y) #chuyển nhãn pos thành 1, neg thành 0 để tiện xử lý\n",
        "labels"
      ],
      "execution_count": 0,
      "outputs": []
    },
    {
      "cell_type": "code",
      "metadata": {
        "id": "UqS8ZTAOesAN",
        "colab_type": "code",
        "colab": {}
      },
      "source": [
        "#chọn model để học \n",
        "#chọn kiến trúc mạng CNN vgg16\n",
        "#base_model = VGG16(weights = 'imagenet', include_top = False)\n",
        "base_model = VGG16(include_top= False, weights='imagenet' , input_shape = (50,50,3))"
      ],
      "execution_count": 0,
      "outputs": []
    },
    {
      "cell_type": "code",
      "metadata": {
        "id": "xZseTthrl0KW",
        "colab_type": "code",
        "colab": {}
      },
      "source": [
        "base_model.summary()"
      ],
      "execution_count": 0,
      "outputs": []
    },
    {
      "cell_type": "code",
      "metadata": {
        "id": "9KofLc_G7nHm",
        "colab_type": "code",
        "colab": {}
      },
      "source": [
        "list_image = []"
      ],
      "execution_count": 0,
      "outputs": []
    },
    {
      "cell_type": "code",
      "metadata": {
        "id": "O2GvOQg_eyIj",
        "colab_type": "code",
        "colab": {}
      },
      "source": [
        "#trích xuất các features\n",
        "features = model.predict(list_image)\n",
        "# Chuyển tensor thành vector, convolution layer cuối (512*7*7)\n",
        "features = features.reshape((features.shape[0], 512*7*7))"
      ],
      "execution_count": 0,
      "outputs": []
    },
    {
      "cell_type": "code",
      "metadata": {
        "id": "TGZESg7pfBA-",
        "colab_type": "code",
        "colab": {}
      },
      "source": [
        "#chia tập dữ liệu ban đầu thành training_set và test_set với tỷ lệ 85:15"
      ],
      "execution_count": 0,
      "outputs": []
    },
    {
      "cell_type": "code",
      "metadata": {
        "id": "xL4W0vPzfXuM",
        "colab_type": "code",
        "colab": {}
      },
      "source": [
        "#đánh giá model"
      ],
      "execution_count": 0,
      "outputs": []
    },
    {
      "cell_type": "code",
      "metadata": {
        "id": "NLQU4wXl8aFN",
        "colab_type": "code",
        "colab": {}
      },
      "source": [
        "#Choose model and learn\n",
        "from sklearn.svm import SVC\n",
        "\n",
        "model = SVC()\n",
        "model.fit( X,  Y.values.ravel()  )\n",
        "\n",
        "print(model)\n",
        "\n"
      ],
      "execution_count": 0,
      "outputs": []
    },
    {
      "cell_type": "code",
      "metadata": {
        "id": "H5pgC_o98wAY",
        "colab_type": "code",
        "colab": {}
      },
      "source": [
        "#dùng pickle để lưu lại model\n",
        "import pickle\n",
        "\n",
        "string = pickle.dumps(model)\n",
        "print(string)\n"
      ],
      "execution_count": 0,
      "outputs": []
    },
    {
      "cell_type": "code",
      "metadata": {
        "id": "t8qDVaTc-8tR",
        "colab_type": "code",
        "colab": {}
      },
      "source": [
        "def show_metrics(X, Y, string):\n",
        "  import pickle\n",
        "  print(Y.values.ravel())\n",
        "\n",
        "  loadmodel = pickle.loads(string)\n",
        "  pred = loadmodel.predict(X)\n",
        "  print(pred)\n",
        "  from sklearn import metrics\n",
        "  print(\"Acurracy \", metrics.accuracy_score(Y.values.ravel(), pred))\n",
        "  print(\"Precision \", metrics.precision_score(Y.values.ravel(), pred, pos_label='pos'))\n",
        "  print(\"Recall \", metrics.recall_score(Y.values.ravel(), pred, pos_label='pos'))\n",
        "  print(\"F1 \", metrics.f1_score(Y.values.ravel(), pred, pos_label='pos'))\n",
        "  #print(\"Acurracy \", metrics.accuracy_score(Y_test.values.ravel(), pred))"
      ],
      "execution_count": 0,
      "outputs": []
    }
  ]
}